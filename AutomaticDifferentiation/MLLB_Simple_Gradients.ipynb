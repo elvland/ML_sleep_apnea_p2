{
  "nbformat": 4,
  "nbformat_minor": 0,
  "metadata": {
    "colab": {
      "provenance": []
    },
    "kernelspec": {
      "name": "python3",
      "display_name": "Python 3"
    }
  },
  "cells": [
    {
      "cell_type": "markdown",
      "metadata": {
        "id": "a4wVsezFdevG"
      },
      "source": [
        "<font size=6 color='yellow'>Example: Simple Gradients</font>\n",
        "---\n",
        "\n",
        "---\n",
        "---\n",
        "## <font size=5>MACHINE LEARNING LAB (MLLB)</font>\n",
        "### ETSIT-UPM MUIT & MUTSC\n",
        "\n",
        "---\n",
        "---\n",
        "\n",
        "\n"
      ]
    },
    {
      "cell_type": "markdown",
      "metadata": {
        "id": "R3HME0A1Ycw9"
      },
      "source": [
        "---\n",
        "---\n",
        "\n",
        "\n",
        "- ## Example: a simple linear regression\n",
        "> ### **COMPUTATIONAL GRAPH**\n",
        "\n",
        "<img src = 'https://drive.google.com/uc?id=1Isslg5y3HmXxUROCPLSL_8EVyRcNcMcb' />\n",
        "\n"
      ]
    },
    {
      "cell_type": "markdown",
      "metadata": {
        "id": "afSgDW3-b-Z2"
      },
      "source": [
        "* # In the example:\n",
        "> * ## $x$ and $y$ are inputs\n",
        "> * ## $w$ is the weigth to be trained: using backpropagation and Stochastic Gradient Descent (SGD)\n",
        "\n",
        "\n",
        "\n",
        "\n"
      ]
    },
    {
      "cell_type": "markdown",
      "metadata": {
        "id": "cxSi0PGKgOBU"
      },
      "source": [
        "- ## We first create some **artificial data**\n",
        "> * ## $x$ 1-D input (feature, predictor)\n",
        "> * ## $y$ outcome to be predicted"
      ]
    },
    {
      "cell_type": "code",
      "metadata": {
        "colab": {
          "base_uri": "https://localhost:8080/",
          "height": 312
        },
        "id": "GpDnXJV6yxCR",
        "outputId": "85a9badb-71fe-4494-c838-e7b6451f2343"
      },
      "source": [
        "import numpy as np\n",
        "import matplotlib.pyplot as plt\n",
        "%matplotlib inline\n",
        "# Linear Regression\n",
        "# f = 2 * x\n",
        "# CREATE SOME Training data\n",
        "X = np.array([1, 2, 3, 4], dtype = np.float32)\n",
        "Y = np.array([2, 4, 6, 8], dtype = np.float32)\n",
        "\n",
        "plt.scatter(X,Y)\n",
        "plt.xlabel('X')\n",
        "plt.ylabel('Y')\n",
        "plt.title('Simple Regression (Training Data)')"
      ],
      "execution_count": 1,
      "outputs": [
        {
          "output_type": "execute_result",
          "data": {
            "text/plain": [
              "Text(0.5, 1.0, 'Simple Regression (Training Data)')"
            ]
          },
          "metadata": {},
          "execution_count": 1
        },
        {
          "output_type": "display_data",
          "data": {
            "text/plain": [
              "<Figure size 432x288 with 1 Axes>"
            ],
            "image/png": "[encoded data removed]"
          },
          "metadata": {
            "needs_background": "light"
          }
        }
      ]
    },
    {
      "cell_type": "code",
      "metadata": {
        "id": "qdNZMfJzghki",
        "colab": {
          "base_uri": "https://localhost:8080/"
        },
        "outputId": "74429e3c-9b14-4edc-eabe-5a8e8d266191"
      },
      "source": [
        "# Initial value for w:\n",
        "w = 0.0\n",
        "\n",
        "# model prediction\n",
        "def forward(x):\n",
        "  return w * x\n",
        "\n",
        "\n",
        "# loss = MSE\n",
        "def loss(y, y_predicted):\n",
        "  return ((y_predicted - y)**2).mean()\n",
        "\n",
        "\n",
        "\n",
        "# gradient\n",
        "# J = Loss MSE = 1/N * (y_pred - y)**2\n",
        "# y_pred = w * x\n",
        "\n",
        "# dJ/dw = (dJ/y_pred) (dy_pred/dw)\n",
        "\n",
        "# dJ/dy_pred = 1/N * 2 * (y_pred - y)\n",
        "# d y_pred / dw = x\n",
        "\n",
        "# dJ/dw = 1/N 2* x * (w*x-y)\n",
        "#                  .... that can be calculated after the forward pass\n",
        "\n",
        "def gradient(x,y,y_predicted):\n",
        "  return np.dot(2*x, y_predicted - y).mean()\n",
        "\n",
        "\n",
        "print(f'Prediction before training for x = 5: f(5) = {forward(5):.3f}')\n"
      ],
      "execution_count": 2,
      "outputs": [
        {
          "output_type": "stream",
          "name": "stdout",
          "text": [
            "Prediction before training for x = 5: f(5) = 0.000\n"
          ]
        }
      ]
    },
    {
      "cell_type": "code",
      "metadata": {
        "colab": {
          "base_uri": "https://localhost:8080/"
        },
        "id": "3mlceIpmdLBg",
        "outputId": "dc801c0e-9779-4139-f8cd-5b9a5a0cb164"
      },
      "source": [
        "# Forward predictions for TRAINING DATA X\n",
        "y_pred = forward(X)\n",
        "print('Foward predictred values: ', y_pred)\n",
        "print('Initial w: ', w)"
      ],
      "execution_count": 3,
      "outputs": [
        {
          "output_type": "stream",
          "name": "stdout",
          "text": [
            "Foward predictred values:  [0. 0. 0. 0.]\n",
            "Initial w:  0.0\n"
          ]
        }
      ]
    },
    {
      "cell_type": "code",
      "metadata": {
        "colab": {
          "base_uri": "https://localhost:8080/"
        },
        "id": "ZFI7Yzl2damS",
        "outputId": "0e433256-0229-42d1-e9ff-bc7b3742cde0"
      },
      "source": [
        " l = loss(Y, y_pred)\n",
        "\n",
        " print('Loss: ', l)"
      ],
      "execution_count": 4,
      "outputs": [
        {
          "output_type": "stream",
          "name": "stdout",
          "text": [
            "Loss:  30.0\n"
          ]
        }
      ]
    },
    {
      "cell_type": "code",
      "metadata": {
        "colab": {
          "base_uri": "https://localhost:8080/"
        },
        "id": "aGjliV3mc79Y",
        "outputId": "e2f3067c-3b72-46af-a1f8-308b1339bdf1"
      },
      "source": [
        "w_grad = gradient(X,Y,y_pred)\n",
        "\n",
        "print('Gradients: ', w_grad)\n"
      ],
      "execution_count": 5,
      "outputs": [
        {
          "output_type": "stream",
          "name": "stdout",
          "text": [
            "Gradients:  -120.0\n"
          ]
        }
      ]
    },
    {
      "cell_type": "code",
      "metadata": {
        "colab": {
          "base_uri": "https://localhost:8080/"
        },
        "id": "psMqV35qd3GK",
        "outputId": "bb2877de-3a8f-4a1c-fc7d-305c7e75110c"
      },
      "source": [
        "# update weights\n",
        "\n",
        "learning_rate = 0.01\n",
        "\n",
        "print('Initial weight: ', w)\n",
        "w -= learning_rate * w_grad\n",
        "\n",
        "print('Updated weight: ', w)"
      ],
      "execution_count": 6,
      "outputs": [
        {
          "output_type": "stream",
          "name": "stdout",
          "text": [
            "Initial weight:  0.0\n",
            "Updated weight:  1.2\n"
          ]
        }
      ]
    },
    {
      "cell_type": "code",
      "metadata": {
        "colab": {
          "base_uri": "https://localhost:8080/"
        },
        "id": "uhiv7eR_cwqi",
        "outputId": "b1279176-7b79-4307-b894-36f30e0a4e94"
      },
      "source": [
        "# Training\n",
        "\n",
        "# Initial value for w:\n",
        "w = 0.0\n",
        "\n",
        "learning_rate = 0.01\n",
        "\n",
        "n_iters =10\n",
        "\n",
        "for epoch in range(n_iters):\n",
        "  # prediction\n",
        "  y_pred = forward(X)\n",
        "\n",
        "  # loss\n",
        "  l = loss(Y, y_pred)\n",
        "\n",
        "  # gradient w_grad = dJ/dw\n",
        "  w_grad = gradient(X,Y,y_pred)\n",
        "\n",
        "  # update weights\n",
        "  w -= learning_rate * w_grad\n",
        "\n",
        "  if epoch % 1 == 0:\n",
        "    print(f'epoch {epoch+1}: w = {w:.3f}, loss = {l:.8f}')\n"
      ],
      "execution_count": 7,
      "outputs": [
        {
          "output_type": "stream",
          "name": "stdout",
          "text": [
            "epoch 1: w = 1.200, loss = 30.00000000\n",
            "epoch 2: w = 1.680, loss = 4.79999924\n",
            "epoch 3: w = 1.872, loss = 0.76800019\n",
            "epoch 4: w = 1.949, loss = 0.12288000\n",
            "epoch 5: w = 1.980, loss = 0.01966083\n",
            "epoch 6: w = 1.992, loss = 0.00314574\n",
            "epoch 7: w = 1.997, loss = 0.00050331\n",
            "epoch 8: w = 1.999, loss = 0.00008053\n",
            "epoch 9: w = 1.999, loss = 0.00001288\n",
            "epoch 10: w = 2.000, loss = 0.00000206\n"
          ]
        }
      ]
    },
    {
      "cell_type": "markdown",
      "source": [
        "* ## we can use the trained weight to make predictions..."
      ],
      "metadata": {
        "id": "6Zb0qbRqo_3m"
      }
    },
    {
      "cell_type": "code",
      "source": [
        "print(f'\\nPrediction after training for x = 5 : f(5) = {forward(5):.3f}')"
      ],
      "metadata": {
        "colab": {
          "base_uri": "https://localhost:8080/"
        },
        "id": "i0klqqf1o-bW",
        "outputId": "69ecef22-c1ed-4b8e-cb6d-fb5044cad8ca"
      },
      "execution_count": 8,
      "outputs": [
        {
          "output_type": "stream",
          "name": "stdout",
          "text": [
            "\n",
            "Prediction after training for x = 5 : f(5) = 9.999\n"
          ]
        }
      ]
    }
  ]
}