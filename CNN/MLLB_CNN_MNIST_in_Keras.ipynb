{
  "cells": [
    {
      "cell_type": "markdown",
      "metadata": {
        "id": "Atq_74B-0ZzA"
      },
      "source": [
        "# <center><font color=magenta>CNN Convolutional Neural Networks in Keras:</font> MNIST Example</center>\n",
        "\n",
        "### Machine Learning LAB\n",
        "### *ETSIT - UPM*\n",
        "---\n",
        "---\n",
        "\n",
        "* ## This Notebook is a modified version of\n",
        "[Introduction to Deep Learning with Keras and TensorFlow](https://colab.research.google.com/github/AviatorMoser/keras-mnist-tutorial/blob/master/MNIST%20in%20Keras.ipynb)\n",
        "\n",
        "\n",
        "**Daniel Moser (UT Southwestern Medical Center)**\n",
        "\n",
        "**Resources: [Xavier Snelgrove](https://github.com/wxs/keras-mnist-tutorial), [Yash Katariya](https://github.com/yashk2810/MNIST-Keras)**"
      ]
    },
    {
      "cell_type": "code",
      "execution_count": 2,
      "metadata": {
        "collapsed": true,
        "id": "bRzpDGFmzgHW"
      },
      "outputs": [],
      "source": [
        "# This is to make plots visible in the Notebook\n",
        "%matplotlib inline"
      ]
    },
    {
      "cell_type": "markdown",
      "metadata": {
        "id": "Z8PCQ3q3zgHe"
      },
      "source": [
        "## The Task for the AI\n",
        "\n",
        "Our goal is to construct and train an artificial neural network on thousands of images of handwritten digits so that it may successfully identify others when presented. The data that will be incorporated is the MNIST database which contains 60,000 images for training and 10,000 test images. We will use the Keras Python API with TensorFlow as the backend."
      ]
    },
    {
      "cell_type": "markdown",
      "metadata": {
        "id": "hZgqzibNzgHf"
      },
      "source": [
        "<img src=\"https://github.com/AviatorMoser/keras-mnist-tutorial/blob/master/mnist.png?raw=1\" >"
      ]
    },
    {
      "cell_type": "markdown",
      "metadata": {
        "id": "DXjK6tHDzgHf"
      },
      "source": [
        "## Prerequisite Python Modules\n",
        "\n",
        "First, some software needs to be loaded into the Python environment."
      ]
    },
    {
      "cell_type": "code",
      "execution_count": 3,
      "metadata": {
        "id": "x1sC8i_6zgHg"
      },
      "outputs": [],
      "source": [
        "import numpy as np                   # advanced math library\n",
        "import matplotlib.pyplot as plt      # MATLAB like plotting routines\n",
        "import random                        # for generating random numbers\n",
        "\n",
        "from keras.utils import np_utils                         # NumPy related tools"
      ]
    },
    {
      "cell_type": "markdown",
      "metadata": {
        "id": "bEQibtabzgH0"
      },
      "source": [
        "# Introducing Convolution! What is it?"
      ]
    },
    {
      "cell_type": "markdown",
      "metadata": {
        "id": "2-jfSwM3zgH1"
      },
      "source": [
        "Before, we built a network that accepts the normalized pixel values of each value and operates soley on those values. What if we could instead feed different features (e.g. **curvature, edges**) of each image into a network, and have the network learn which features are important for classifying an image?\n",
        "\n",
        "This possible through convolution! Convolution applies **kernels** (filters) that traverse through each image and generate **feature maps**."
      ]
    },
    {
      "cell_type": "markdown",
      "metadata": {
        "id": "4teQk2D6zgH1"
      },
      "source": [
        "<img src = 'https://github.com/AviatorMoser/keras-mnist-tutorial/blob/master/convolution.gif?raw=1' >"
      ]
    },
    {
      "cell_type": "markdown",
      "metadata": {
        "id": "LLnvQAWOzgH1"
      },
      "source": [
        "In the above example, the image is a 5 x 5 matrix and the kernel going over it is a 3 x 3 matrix. A dot product operation takes place between the image and the kernel and the convolved feature is generated. Each kernel in a CNN learns a different characteristic of an image.\n",
        "\n",
        "Kernels are often used in photoediting software to apply blurring, edge detection, sharpening, etc."
      ]
    },
    {
      "cell_type": "markdown",
      "metadata": {
        "id": "2ZBA-11xzgH2"
      },
      "source": [
        "<img src = 'https://github.com/AviatorMoser/keras-mnist-tutorial/blob/master/kernels.png?raw=1' >"
      ]
    },
    {
      "cell_type": "markdown",
      "metadata": {
        "id": "e3xcifhazgH2"
      },
      "source": [
        "Kernels in deep learning networks are used in similar ways, i.e. highlighting some feature. Combined with a system called **max pooling**, the non-highlighted elements are discarded from each feature map, leaving only the features of interest, reducing the number of learned parameters, and decreasing the computational cost (e.g. system memory)."
      ]
    },
    {
      "cell_type": "markdown",
      "metadata": {
        "id": "7RiAn4ohzgH2"
      },
      "source": [
        "<img src = 'https://github.com/AviatorMoser/keras-mnist-tutorial/blob/master/max_pooling.png?raw=1' >"
      ]
    },
    {
      "cell_type": "markdown",
      "metadata": {
        "id": "KJc4iNH3zgH3"
      },
      "source": [
        "We can also take convolutions of convolutions -- we can stack as many convolutions as we want, as long as there are enough pixels to fit a kernel.\n",
        "\n",
        "*Warning: What you may find down there in those deep convolutions may not appear recognizable to you.*"
      ]
    },
    {
      "cell_type": "markdown",
      "metadata": {
        "id": "YVLR44VCzgH4"
      },
      "source": [
        "## Building a \"Deep\" Convolutional Neural Network using [Keras](https://keras.io/)\n",
        "\n",
        "<img src=\"https://keras.io/img/logo.png\" width=\"300\" height=\"100\" />\n",
        "\n",
        "#### You can learn Keras and follow many examplies in [Keras Web](https://keras.io)"
      ]
    },
    {
      "cell_type": "code",
      "execution_count": 4,
      "metadata": {
        "collapsed": true,
        "id": "c4Bb-O13zgH4"
      },
      "outputs": [],
      "source": [
        "# import some additional tools\n",
        "\n",
        "from keras.preprocessing.image import ImageDataGenerator\n",
        "\n",
        "from keras.datasets import mnist     # MNIST dataset is included in Keras\n",
        "from keras.models import Sequential  # Model type to be used\n",
        "\n",
        "from keras.layers.core import Dense, Dropout, Activation # Types of layers to be used in our model\n",
        "from keras.layers import Conv2D, MaxPooling2D, ZeroPadding2D, GlobalAveragePooling2D, Flatten\n",
        "from keras.layers import BatchNormalization"
      ]
    },
    {
      "cell_type": "code",
      "execution_count": 5,
      "metadata": {
        "collapsed": true,
        "id": "0JiKI5QnzgH4",
        "colab": {
          "base_uri": "https://localhost:8080/"
        },
        "outputId": "c2edfb2e-b3c5-483b-afda-f7af4d2767d7"
      },
      "outputs": [
        {
          "output_type": "stream",
          "name": "stdout",
          "text": [
            "Downloading data from https://storage.googleapis.com/tensorflow/tf-keras-datasets/mnist.npz\n",
            "11490434/11490434 [==============================] - 2s 0us/step\n"
          ]
        }
      ],
      "source": [
        "# Load the MNIST data\n",
        "(X_train, y_train), (X_test, y_test) = mnist.load_data()"
      ]
    },
    {
      "cell_type": "code",
      "execution_count": 6,
      "metadata": {
        "id": "6aPmrbISzgH5",
        "colab": {
          "base_uri": "https://localhost:8080/"
        },
        "outputId": "645a224c-33a6-45be-979b-a9fca8097a03"
      },
      "outputs": [
        {
          "output_type": "stream",
          "name": "stdout",
          "text": [
            "Training matrix shape (60000, 28, 28, 1)\n",
            "Testing matrix shape (10000, 28, 28, 1)\n"
          ]
        }
      ],
      "source": [
        "# Again, do some formatting\n",
        "# Except we do not flatten each image into a 784-length vector because we want to perform convolutions first\n",
        "\n",
        "X_train = X_train.reshape(60000, 28, 28, 1) #add an additional dimension to represent the single-channel\n",
        "X_test = X_test.reshape(10000, 28, 28, 1)\n",
        "\n",
        "X_train = X_train.astype('float32')         # change integers to 32-bit floating point numbers\n",
        "X_test = X_test.astype('float32')\n",
        "\n",
        "X_train /= 255                              # normalize each value for each pixel for the entire vector for each input\n",
        "X_test /= 255\n",
        "\n",
        "print(\"Training matrix shape\", X_train.shape)\n",
        "print(\"Testing matrix shape\", X_test.shape)"
      ]
    },
    {
      "cell_type": "code",
      "execution_count": 7,
      "metadata": {
        "collapsed": true,
        "id": "GY1HC3dNzgH5"
      },
      "outputs": [],
      "source": [
        "# one-hot format classes\n",
        "\n",
        "nb_classes = 10 # number of unique digits\n",
        "\n",
        "Y_train = np_utils.to_categorical(y_train, nb_classes)\n",
        "Y_test = np_utils.to_categorical(y_test, nb_classes)"
      ]
    },
    {
      "cell_type": "markdown",
      "source": [
        "### As in the Feed-Forward example the easiest way to design a Deep Learning Model in Keras is the [Sequential model](https://keras.io/guides/sequential_model/):\n",
        "* you have just to define a plain stack of layers where each layer has exactly one input tensor and one output tensor."
      ],
      "metadata": {
        "id": "kCgJvDeAAmWo"
      }
    },
    {
      "cell_type": "code",
      "execution_count": 8,
      "metadata": {
        "collapsed": true,
        "id": "609DVxJAzgH5"
      },
      "outputs": [],
      "source": [
        "model = Sequential()                                 # Linear stacking of layers\n",
        "\n",
        "# Convolution Layer 1\n",
        "model.add(Conv2D(32, (3, 3), input_shape=(28,28,1))) # 32 different 3x3 kernels -- so 32 feature maps\n",
        "model.add(BatchNormalization(axis=-1))               # normalize each feature map before activation\n",
        "convLayer01 = Activation('relu')                     # activation\n",
        "model.add(convLayer01)\n",
        "\n",
        "# Convolution Layer 2\n",
        "model.add(Conv2D(32, (3, 3)))                        # 32 different 3x3 kernels -- so 32 feature maps\n",
        "model.add(BatchNormalization(axis=-1))               # normalize each feature map before activation\n",
        "model.add(Activation('relu'))                        # activation\n",
        "convLayer02 = MaxPooling2D(pool_size=(2,2))          # Pool the max values over a 2x2 kernel\n",
        "model.add(convLayer02)\n",
        "\n",
        "# Convolution Layer 3\n",
        "model.add(Conv2D(64,(3, 3)))                         # 64 different 3x3 kernels -- so 64 feature maps\n",
        "model.add(BatchNormalization(axis=-1))               # normalize each feature map before activation\n",
        "convLayer03 = Activation('relu')                     # activation\n",
        "model.add(convLayer03)\n",
        "\n",
        "# Convolution Layer 4\n",
        "model.add(Conv2D(64, (3, 3)))                        # 64 different 3x3 kernels -- so 64 feature maps\n",
        "model.add(BatchNormalization(axis=-1))               # normalize each feature map before activation\n",
        "model.add(Activation('relu'))                        # activation\n",
        "convLayer04 = MaxPooling2D(pool_size=(2,2))          # Pool the max values over a 2x2 kernel\n",
        "model.add(convLayer04)\n",
        "model.add(Flatten())                                 # Flatten final 4x4x64 output matrix into a 1024-length vector\n",
        "\n",
        "# Fully Connected Layer 5\n",
        "model.add(Dense(512))                                # 512 FCN nodes\n",
        "model.add(BatchNormalization())                      # normalization\n",
        "model.add(Activation('relu'))                        # activation\n",
        "\n",
        "# Fully Connected Layer 6                       \n",
        "model.add(Dropout(0.2))                              # 20% dropout of randomly selected nodes\n",
        "model.add(Dense(10))                                 # final 10 FCN nodes\n",
        "model.add(Activation('softmax'))                     # softmax activation"
      ]
    },
    {
      "cell_type": "code",
      "execution_count": 9,
      "metadata": {
        "id": "jb_MR3DTzgH6",
        "colab": {
          "base_uri": "https://localhost:8080/"
        },
        "outputId": "253ed77a-ce03-41ff-edf9-1e991ef09734"
      },
      "outputs": [
        {
          "output_type": "stream",
          "name": "stdout",
          "text": [
            "Model: \"sequential\"\n",
            "_________________________________________________________________\n",
            " Layer (type)                Output Shape              Param #   \n",
            "=================================================================\n",
            " conv2d (Conv2D)             (None, 26, 26, 32)        320       \n",
            "                                                                 \n",
            " batch_normalization (BatchN  (None, 26, 26, 32)       128       \n",
            " ormalization)                                                   \n",
            "                                                                 \n",
            " activation (Activation)     (None, 26, 26, 32)        0         \n",
            "                                                                 \n",
            " conv2d_1 (Conv2D)           (None, 24, 24, 32)        9248      \n",
            "                                                                 \n",
            " batch_normalization_1 (Batc  (None, 24, 24, 32)       128       \n",
            " hNormalization)                                                 \n",
            "                                                                 \n",
            " activation_1 (Activation)   (None, 24, 24, 32)        0         \n",
            "                                                                 \n",
            " max_pooling2d (MaxPooling2D  (None, 12, 12, 32)       0         \n",
            " )                                                               \n",
            "                                                                 \n",
            " conv2d_2 (Conv2D)           (None, 10, 10, 64)        18496     \n",
            "                                                                 \n",
            " batch_normalization_2 (Batc  (None, 10, 10, 64)       256       \n",
            " hNormalization)                                                 \n",
            "                                                                 \n",
            " activation_2 (Activation)   (None, 10, 10, 64)        0         \n",
            "                                                                 \n",
            " conv2d_3 (Conv2D)           (None, 8, 8, 64)          36928     \n",
            "                                                                 \n",
            " batch_normalization_3 (Batc  (None, 8, 8, 64)         256       \n",
            " hNormalization)                                                 \n",
            "                                                                 \n",
            " activation_3 (Activation)   (None, 8, 8, 64)          0         \n",
            "                                                                 \n",
            " max_pooling2d_1 (MaxPooling  (None, 4, 4, 64)         0         \n",
            " 2D)                                                             \n",
            "                                                                 \n",
            " flatten (Flatten)           (None, 1024)              0         \n",
            "                                                                 \n",
            " dense (Dense)               (None, 512)               524800    \n",
            "                                                                 \n",
            " batch_normalization_4 (Batc  (None, 512)              2048      \n",
            " hNormalization)                                                 \n",
            "                                                                 \n",
            " activation_4 (Activation)   (None, 512)               0         \n",
            "                                                                 \n",
            " dropout (Dropout)           (None, 512)               0         \n",
            "                                                                 \n",
            " dense_1 (Dense)             (None, 10)                5130      \n",
            "                                                                 \n",
            " activation_5 (Activation)   (None, 10)                0         \n",
            "                                                                 \n",
            "=================================================================\n",
            "Total params: 597,738\n",
            "Trainable params: 596,330\n",
            "Non-trainable params: 1,408\n",
            "_________________________________________________________________\n"
          ]
        }
      ],
      "source": [
        "model.summary()"
      ]
    },
    {
      "cell_type": "code",
      "execution_count": 10,
      "metadata": {
        "collapsed": true,
        "id": "Btvl0w9PzgH6"
      },
      "outputs": [],
      "source": [
        "# we'll use the same optimizer\n",
        "\n",
        "model.compile(loss='categorical_crossentropy', optimizer='adam', metrics=['accuracy'])"
      ]
    },
    {
      "cell_type": "code",
      "execution_count": 12,
      "metadata": {
        "collapsed": true,
        "id": "jui_uyeHzgH6"
      },
      "outputs": [],
      "source": [
        "# data augmentation prevents overfitting by slightly changing the data randomly\n",
        "# Keras has a great built-in feature to do automatic augmentation\n",
        "\n",
        "gen = ImageDataGenerator(rotation_range=8, width_shift_range=0.08, shear_range=0.3,\n",
        "                         height_shift_range=0.08, zoom_range=0.08)\n",
        "\n",
        "test_gen = ImageDataGenerator()"
      ]
    },
    {
      "cell_type": "markdown",
      "source": [
        "### NOTE: <font color=yellow>*Deprecated*</font>: tf.keras.preprocessing.image.ImageDataGenerator is not recommended for new code. \n",
        "\n",
        "> Prefer loading images with tf.keras.utils.image_dataset_from_directory and transforming the output tf.data.Dataset with preprocessing layers. For more information, see the tutorials for loading images and augmenting images, as well as the preprocessing layer guide.\n",
        "\n",
        "https://www.tensorflow.org/api_docs/python/tf/keras/preprocessing/image/ImageDataGenerator "
      ],
      "metadata": {
        "id": "DUD4g0S4FCNi"
      }
    },
    {
      "cell_type": "code",
      "execution_count": 13,
      "metadata": {
        "collapsed": true,
        "id": "ev2PSWILzgH6"
      },
      "outputs": [],
      "source": [
        "# We can then feed our augmented data in batches\n",
        "# Besides loss function considerations as before, this method actually results in significant memory savings\n",
        "# because we are actually LOADING the data into the network in batches before processing each batch\n",
        "\n",
        "# Before the data was all loaded into memory, but then processed in batches.\n",
        "\n",
        "train_generator = gen.flow(X_train, Y_train, batch_size=128)\n",
        "test_generator = test_gen.flow(X_test, Y_test, batch_size=128)"
      ]
    },
    {
      "cell_type": "markdown",
      "source": [
        "### NOTE: when using ImageDataGeneration we don't generate more data, it is in every batch and epoch that different (transformed) images are used. "
      ],
      "metadata": {
        "id": "dpW_q2HSFiJJ"
      }
    },
    {
      "cell_type": "code",
      "execution_count": 15,
      "metadata": {
        "id": "7dNhK7kMzgH7",
        "colab": {
          "base_uri": "https://localhost:8080/"
        },
        "outputId": "69b19583-ceb5-4854-87e4-c8bb21207779"
      },
      "outputs": [
        {
          "output_type": "stream",
          "name": "stdout",
          "text": [
            "Epoch 1/5\n",
            "468/468 [==============================] - 20s 42ms/step - loss: 0.0487 - accuracy: 0.9855 - val_loss: 0.0709 - val_accuracy: 0.9771\n",
            "Epoch 2/5\n",
            "468/468 [==============================] - 19s 41ms/step - loss: 0.0396 - accuracy: 0.9877 - val_loss: 0.0333 - val_accuracy: 0.9886\n",
            "Epoch 3/5\n",
            "468/468 [==============================] - 20s 43ms/step - loss: 0.0330 - accuracy: 0.9897 - val_loss: 0.0227 - val_accuracy: 0.9933\n",
            "Epoch 4/5\n",
            "468/468 [==============================] - 19s 41ms/step - loss: 0.0294 - accuracy: 0.9909 - val_loss: 0.0193 - val_accuracy: 0.9935\n",
            "Epoch 5/5\n",
            "468/468 [==============================] - 20s 42ms/step - loss: 0.0290 - accuracy: 0.9905 - val_loss: 0.0412 - val_accuracy: 0.9872\n"
          ]
        },
        {
          "output_type": "execute_result",
          "data": {
            "text/plain": [
              "<keras.callbacks.History at 0x7f45105dadd0>"
            ]
          },
          "metadata": {},
          "execution_count": 15
        }
      ],
      "source": [
        "# We can now train our model which is fed data by our batch loader\n",
        "# Steps per epoch should always be total size of the set divided by the batch size\n",
        "\n",
        "# SIGNIFICANT MEMORY SAVINGS (important for larger, deeper networks)\n",
        "\n",
        "model.fit(train_generator, steps_per_epoch=60000//128, epochs=5, verbose=1, \n",
        "                    validation_data=test_generator, validation_steps=10000//128)"
      ]
    },
    {
      "cell_type": "code",
      "execution_count": null,
      "metadata": {
        "id": "n7u8kdqGzgH7",
        "colab": {
          "base_uri": "https://localhost:8080/"
        },
        "outputId": "f00ea636-b51e-4441-fc0e-b497d6b0b2a8"
      },
      "outputs": [
        {
          "output_type": "stream",
          "name": "stdout",
          "text": [
            "313/313 [==============================] - 1s 4ms/step - loss: 0.0331 - accuracy: 0.9894\n",
            "Test score: 0.033086247742176056\n",
            "Test accuracy: 0.9894000291824341\n"
          ]
        }
      ],
      "source": [
        "score = model.evaluate(X_test, Y_test)\n",
        "print('Test score:', score[0])\n",
        "print('Test accuracy:', score[1])"
      ]
    },
    {
      "cell_type": "markdown",
      "source": [
        "### Confusion Matrix"
      ],
      "metadata": {
        "id": "A4Y-wlJRhp0Q"
      }
    },
    {
      "cell_type": "code",
      "source": [
        "! pip install pycm"
      ],
      "metadata": {
        "id": "B22FvtXnGSgC"
      },
      "execution_count": null,
      "outputs": []
    },
    {
      "cell_type": "code",
      "source": [
        "from pycm import *\n",
        "\n",
        "# The predict_classes function outputs the highest probability class\n",
        "# according to the trained classifier for each input example.\n",
        "predicted_classes = model.predict(X_test)\n",
        "\n",
        "cm = ConfusionMatrix(actual_vector=y_test, predict_vector=np.argmax(predicted_classes,axis=1)) # Create CM From Data\n",
        "\n",
        "cm.plot(cmap=plt.cm.Greens,number_label=True,plot_lib=\"matplotlib\")"
      ],
      "metadata": {
        "colab": {
          "base_uri": "https://localhost:8080/",
          "height": 330
        },
        "id": "4pim98jehnfC",
        "outputId": "8a3e2606-2e6a-4809-c83e-6e9e571f1582"
      },
      "execution_count": 18,
      "outputs": [
        {
          "output_type": "stream",
          "name": "stdout",
          "text": [
            "313/313 [==============================] - 1s 3ms/step\n"
          ]
        },
        {
          "output_type": "execute_result",
          "data": {
            "text/plain": [
              "<matplotlib.axes._subplots.AxesSubplot at 0x7f449c7c8490>"
            ]
          },
          "metadata": {},
          "execution_count": 18
        },
        {
          "output_type": "display_data",
          "data": {
            "text/plain": [
              "<Figure size 432x288 with 2 Axes>"
            ],
            "image/png": "[encoded data removed]"
          },
          "metadata": {
            "needs_background": "light"
          }
        }
      ]
    },
    {
      "cell_type": "markdown",
      "metadata": {
        "id": "NVefaen7zgH7"
      },
      "source": [
        "## Convolutions visualization\n",
        "\n",
        "But wouldn't it be nice if we could visualize those convolutions so that we can see what the model is seeing?"
      ]
    },
    {
      "cell_type": "markdown",
      "source": [
        "### Visualize Feature Maps directly from CNN layers"
      ],
      "metadata": {
        "id": "RaH1xRSHouG-"
      }
    },
    {
      "cell_type": "code",
      "source": [
        "# Choose one image to test\n",
        "\n",
        "img_num = 3\n",
        "img = X_test[img_num]\n",
        "\n",
        "plt.figure()\n",
        "plt.imshow(X_test[3].reshape(28,28), cmap='gray', interpolation='none')"
      ],
      "metadata": {
        "colab": {
          "base_uri": "https://localhost:8080/",
          "height": 282
        },
        "id": "SU7ZfASOpS4u",
        "outputId": "bc314d31-97c8-4ad2-f7a7-539da7d6f330"
      },
      "execution_count": 19,
      "outputs": [
        {
          "output_type": "execute_result",
          "data": {
            "text/plain": [
              "<matplotlib.image.AxesImage at 0x7f45103795d0>"
            ]
          },
          "metadata": {},
          "execution_count": 19
        },
        {
          "output_type": "display_data",
          "data": {
            "text/plain": [
              "<Figure size 432x288 with 1 Axes>"
            ],
            "image/png": "[encoded data removed]"
          },
          "metadata": {
            "needs_background": "light"
          }
        }
      ]
    },
    {
      "cell_type": "code",
      "source": [
        "# redefine model to output right after the first hidden layer\n",
        "from keras.models import Model\n",
        "\n",
        "layer_outputs = [layer.output for layer in model.layers]\n",
        "feature_map_model = Model(inputs=model.input, outputs=layer_outputs)\n",
        "\n",
        "img = X_test[img_num]\n",
        "img = np.expand_dims(img, axis=0)\n",
        "\n",
        "feature_maps = feature_map_model.predict(img)\n",
        "\n",
        "layer_outputs"
      ],
      "metadata": {
        "colab": {
          "base_uri": "https://localhost:8080/"
        },
        "id": "36pSIi08wPtD",
        "outputId": "bbdac692-c4a6-4caa-fac2-79a3a4405e09"
      },
      "execution_count": 21,
      "outputs": [
        {
          "output_type": "stream",
          "name": "stdout",
          "text": [
            "1/1 [==============================] - 0s 227ms/step\n"
          ]
        },
        {
          "output_type": "execute_result",
          "data": {
            "text/plain": [
              "[<KerasTensor: shape=(None, 26, 26, 32) dtype=float32 (created by layer 'conv2d')>,\n",
              " <KerasTensor: shape=(None, 26, 26, 32) dtype=float32 (created by layer 'batch_normalization')>,\n",
              " <KerasTensor: shape=(None, 26, 26, 32) dtype=float32 (created by layer 'activation')>,\n",
              " <KerasTensor: shape=(None, 24, 24, 32) dtype=float32 (created by layer 'conv2d_1')>,\n",
              " <KerasTensor: shape=(None, 24, 24, 32) dtype=float32 (created by layer 'batch_normalization_1')>,\n",
              " <KerasTensor: shape=(None, 24, 24, 32) dtype=float32 (created by layer 'activation_1')>,\n",
              " <KerasTensor: shape=(None, 12, 12, 32) dtype=float32 (created by layer 'max_pooling2d')>,\n",
              " <KerasTensor: shape=(None, 10, 10, 64) dtype=float32 (created by layer 'conv2d_2')>,\n",
              " <KerasTensor: shape=(None, 10, 10, 64) dtype=float32 (created by layer 'batch_normalization_2')>,\n",
              " <KerasTensor: shape=(None, 10, 10, 64) dtype=float32 (created by layer 'activation_2')>,\n",
              " <KerasTensor: shape=(None, 8, 8, 64) dtype=float32 (created by layer 'conv2d_3')>,\n",
              " <KerasTensor: shape=(None, 8, 8, 64) dtype=float32 (created by layer 'batch_normalization_3')>,\n",
              " <KerasTensor: shape=(None, 8, 8, 64) dtype=float32 (created by layer 'activation_3')>,\n",
              " <KerasTensor: shape=(None, 4, 4, 64) dtype=float32 (created by layer 'max_pooling2d_1')>,\n",
              " <KerasTensor: shape=(None, 1024) dtype=float32 (created by layer 'flatten')>,\n",
              " <KerasTensor: shape=(None, 512) dtype=float32 (created by layer 'dense')>,\n",
              " <KerasTensor: shape=(None, 512) dtype=float32 (created by layer 'batch_normalization_4')>,\n",
              " <KerasTensor: shape=(None, 512) dtype=float32 (created by layer 'activation_4')>,\n",
              " <KerasTensor: shape=(None, 512) dtype=float32 (created by layer 'dropout')>,\n",
              " <KerasTensor: shape=(None, 10) dtype=float32 (created by layer 'dense_1')>,\n",
              " <KerasTensor: shape=(None, 10) dtype=float32 (created by layer 'activation_5')>]"
            ]
          },
          "metadata": {},
          "execution_count": 21
        }
      ]
    },
    {
      "cell_type": "code",
      "source": [
        "layer_names=[layer.name for layer in model.layers]"
      ],
      "metadata": {
        "id": "7NhZGihqZInT"
      },
      "execution_count": 22,
      "outputs": []
    },
    {
      "cell_type": "code",
      "source": [
        "layer_to_visualize = 'conv2d_1'\n",
        "layer_index = index = layer_names.index(layer_to_visualize)\n",
        "\n",
        "layer_index\n",
        "\n",
        "print ('Layer no.' , layer_index, 'Shape :', feature_maps[layer_index].shape)\n",
        "    \n",
        "m = feature_maps[layer_index].shape[2]\n",
        "n = int(np.ceil(np.sqrt(m)))\n",
        "\n",
        "# Visualization of each filter of the layer\n",
        "fig = plt.figure(figsize=(15,12))\n",
        "for i in range(m):\n",
        "        ax = fig.add_subplot(n,n,i+1)\n",
        "        ax.imshow(feature_maps[layer_index][0,:,:,i], cmap='gray')"
      ],
      "metadata": {
        "colab": {
          "base_uri": "https://localhost:8080/",
          "height": 719
        },
        "id": "Ig00R4aWwkhL",
        "outputId": "4883fbb5-35f6-433c-bf41-7ffd06f1129c"
      },
      "execution_count": 26,
      "outputs": [
        {
          "output_type": "stream",
          "name": "stdout",
          "text": [
            "Layer no. 3 Shape : (1, 24, 24, 32)\n"
          ]
        },
        {
          "output_type": "display_data",
          "data": {
            "text/plain": [
              "<Figure size 1080x864 with 24 Axes>"
            ],
            "image/png": "[encoded data removed]"
          },
          "metadata": {
            "needs_background": "light"
          }
        }
      ]
    }
  ],
  "metadata": {
    "kernelspec": {
      "display_name": "Tensorflow (GPU)",
      "language": "python",
      "name": "py3.6-tfgpu"
    },
    "language_info": {
      "codemirror_mode": {
        "name": "ipython",
        "version": 3
      },
      "file_extension": ".py",
      "mimetype": "text/x-python",
      "name": "python",
      "nbconvert_exporter": "python",
      "pygments_lexer": "ipython3",
      "version": "3.6.6"
    },
    "colab": {
      "provenance": []
    },
    "accelerator": "GPU",
    "gpuClass": "standard"
  },
  "nbformat": 4,
  "nbformat_minor": 0
}